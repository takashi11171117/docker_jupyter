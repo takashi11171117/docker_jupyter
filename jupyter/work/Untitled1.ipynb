{
 "cells": [
  {
   "cell_type": "code",
   "execution_count": 38,
   "metadata": {},
   "outputs": [],
   "source": [
    "import pymysql\n",
    "from pandas.io import sql\n",
    "import pandas as pd\n",
    "import re\n",
    "p = re.compile(r\"<[^>]*?>|&.*?;\")\n",
    "pd.set_option(\"display.max_colwidth\", 200)\n",
    "pd.set_option(\"display.max_rows\", 101)\n",
    "connection = pymysql.connect(host='db', db='kanpari', user='root', password='password',charset=\"utf8\",cursorclass=pymysql.cursors.DictCursor)"
   ]
  },
  {
   "cell_type": "code",
   "execution_count": 26,
   "metadata": {
    "scrolled": false
   },
   "outputs": [
    {
     "data": {
      "text/html": [
       "<div>\n",
       "<table border=\"1\" class=\"dataframe\">\n",
       "  <thead>\n",
       "    <tr style=\"text-align: right;\">\n",
       "      <th></th>\n",
       "      <th>post_content</th>\n",
       "      <th>post_title</th>\n",
       "      <th>kpf_handle</th>\n",
       "      <th>kpf_area</th>\n",
       "      <th>kpf_location</th>\n",
       "      <th>kpf_fishingdate</th>\n",
       "      <th>kpf_weather</th>\n",
       "      <th>kpf_temperature</th>\n",
       "      <th>kpf_tide</th>\n",
       "      <th>kpf_timezone</th>\n",
       "      <th>kpf_style</th>\n",
       "      <th>kpf_fishing</th>\n",
       "      <th>kpf_usetackle</th>\n",
       "    </tr>\n",
       "  </thead>\n",
       "  <tbody>\n",
       "    <tr>\n",
       "      <th>0</th>\n",
       "      <td>&lt;p&gt;ナイトゲームの1投目でアオリイカ。その後イカの反応が得られずトッププラグに変更してシーバスのミスバイト実に10回&amp;hellip;。表層での捕食のヘタさに嫌気が差しシンキングペンシルに変更してシャローの中層を限界のデッドスローでゴツッとヒラスズキがヒット。引きはなかなかでドラグも出されましたが前後の両フックが顎下にフッキングしていたためか1度もエラ洗いのないままキャッチ。&lt;/p&gt;</td>\n",
       "      <td>エギングでアオリイカ、ルアーでヒラスズキ</td>\n",
       "      <td>海辺の狩人</td>\n",
       "      <td>高知</td>\n",
       "      <td>高知市～須崎市</td>\n",
       "      <td>2017/11/29</td>\n",
       "      <td>曇り</td>\n",
       "      <td>快適</td>\n",
       "      <td>中潮</td>\n",
       "      <td>夜</td>\n",
       "      <td>エギング、プラッギング</td>\n",
       "      <td>アオリイカ、ヒラスズキ</td>\n",
       "      <td>ROD:alpha tackle PRIUS ECO EGI Sic 832ML\\r\\nREEL:SHIMANO AERNOS XT C3000 SDH\\r\\nLINE:G-soul X8 Upgrade P</td>\n",
       "    </tr>\n",
       "  </tbody>\n",
       "</table>\n",
       "</div>"
      ],
      "text/plain": [
       "                                                                                                                                                                                        post_content  \\\n",
       "0  <p>ナイトゲームの1投目でアオリイカ。その後イカの反応が得られずトッププラグに変更してシーバスのミスバイト実に10回&hellip;。表層での捕食のヘタさに嫌気が差しシンキングペンシルに変更してシャローの中層を限界のデッドスローでゴツッとヒラスズキがヒット。引きはなかなかでドラグも出されましたが前後の両フックが顎下にフッキングしていたためか1度もエラ洗いのないままキャッチ。</p>   \n",
       "\n",
       "             post_title kpf_handle kpf_area kpf_location kpf_fishingdate  \\\n",
       "0  エギングでアオリイカ、ルアーでヒラスズキ      海辺の狩人       高知      高知市～須崎市      2017/11/29   \n",
       "\n",
       "  kpf_weather kpf_temperature kpf_tide kpf_timezone    kpf_style  kpf_fishing  \\\n",
       "0          曇り              快適       中潮            夜  エギング、プラッギング  アオリイカ、ヒラスズキ   \n",
       "\n",
       "                                                                                              kpf_usetackle  \n",
       "0  ROD:alpha tackle PRIUS ECO EGI Sic 832ML\\r\\nREEL:SHIMANO AERNOS XT C3000 SDH\\r\\nLINE:G-soul X8 Upgrade P  "
      ]
     },
     "execution_count": 26,
     "metadata": {},
     "output_type": "execute_result"
    }
   ],
   "source": [
    "sql_str = '''\n",
    "SELECT\n",
    "po.post_content, po.post_title,\n",
    "kpf_handle, kpf_area,\n",
    "kpf_location,\n",
    "kpf_fishingdate,\n",
    "kpf_weather,\n",
    "kpf_temperature,\n",
    "kpf_tide,\n",
    "kpf_timezone,\n",
    "kpf_style,\n",
    "kpf_fishing,\n",
    "kpf_usetackle\n",
    "FROM wp_posts po\n",
    "INNER JOIN wp_usces_postform wup\n",
    "ON po.ID = wup.post_id\n",
    "WHERE po.ID = 1153539\n",
    "'''\n",
    "df = sql.read_sql(sql_str, connection)\n",
    "df"
   ]
  },
  {
   "cell_type": "code",
   "execution_count": 36,
   "metadata": {},
   "outputs": [
    {
     "name": "stdout",
     "output_type": "stream",
     "text": [
      "\n",
      "### エギングでアオリイカ、ルアーでヒラスズキ　海辺の狩人様からのご投稿(高知)\n",
      "\n",
      "**[釣行レポート]**\n",
      "ナイトゲームの1投目でアオリイカ。その後イカの反応が得られずトッププラグに変更してシーバスのミスバイト実に10回。表層での捕食のヘタさに嫌気が差しシンキングペンシルに変更してシャローの中層を限界のデッドスローでゴツッとヒラスズキがヒット。引きはなかなかでドラグも出されましたが前後の両フックが顎下にフッキングしていたためか1度もエラ洗いのないままキャッチ。\n",
      "\n",
      "***当日の状況は…***\n",
      "[釣行日]  2017/11/29\n",
      "[天気]  曇り\n",
      "[気温]  快適\n",
      "[潮]  中潮\n",
      "[時間帯]  夜\n",
      "[釣り方]  エギング、プラッギング\n",
      "[釣果]  アオリイカ、ヒラスズキ\n",
      "[釣行場所]  高知市～須崎市\n",
      "\n",
      "#### 海辺の狩人様のタックル\n",
      "ROD:alpha tackle PRIUS ECO EGI Sic 832ML\r\n",
      "REEL:SHIMANO AERNOS XT C3000 SDH\r\n",
      "LINE:G-soul X8 Upgrade P\n",
      "\n",
      "\n",
      "[imglist src=\"https://fishing.ne.jp/wp-content/uploads/2017/12/01_PC170004a-1.jpg,https://fishing.ne.jp/wp-content/uploads/2017/12/02_PC170011a-1.jpg,https://fishing.ne.jp/wp-content/uploads/2017/12/03_PC170013a-1.jpg\" caption=\"\" title=\"ナイスサイズのニジマス,トラウトフィッシングでニジマス釣果,大安トラウトレイクのニジマス\" line=3 align=\"center\"]\n",
      "\n",
      "[gmap code='<iframe src=\"https://www.google.com/maps/embed?pb=!1m14!1m8!1m3!1d13059.855012528411!2d136.5308602!3d35.0826384!3m2!1i1024!2i768!4f13.1!3m3!1m2!1s0x0%3A0x4ce79d19f64fe4ba!2z5aSn5a6J44OI44Op44Km44OI44Os44Kk44Kv!5e0!3m2!1sja!2sjp!4v1513661493823\" width=\"600\" height=\"450\" frameborder=\"0\" style=\"border:0\" allowfullscreen></iframe>']\n",
      "\n",
      "[トラウト　釣りの最新釣果はカンパリでチェック！](https://fishing.ne.jp/freshpost)\n",
      "\n"
     ]
    }
   ],
   "source": [
    "content=p.sub(\"\", df['post_content'][0])\n",
    "sql_str = '''\n",
    "### {title}　{handle}様からのご投稿({area})\n",
    "\n",
    "**[釣行レポート]**\n",
    "{content}\n",
    "\n",
    "***当日の状況は…***\n",
    "[釣行日]  {fishingdate}\n",
    "[天気]  {weather}\n",
    "[気温]  {temperature}\n",
    "[潮]  {tide}\n",
    "[時間帯]  {timezone}\n",
    "[釣り方]  {style}\n",
    "[釣果]  {fishing}\n",
    "[釣行場所]  {location}\n",
    "\n",
    "#### {handle}様のタックル\n",
    "{usetackle}\n",
    "\n",
    "\n",
    "[imglist src=\"https://fishing.ne.jp/wp-content/uploads/2017/12/01_PC170004a-1.jpg,https://fishing.ne.jp/wp-content/uploads/2017/12/02_PC170011a-1.jpg,https://fishing.ne.jp/wp-content/uploads/2017/12/03_PC170013a-1.jpg\" caption=\"\" title=\"ナイスサイズのニジマス,トラウトフィッシングでニジマス釣果,大安トラウトレイクのニジマス\" line=3 align=\"center\"]\n",
    "\n",
    "[gmap code='<iframe src=\"https://www.google.com/maps/embed?pb=!1m14!1m8!1m3!1d13059.855012528411!2d136.5308602!3d35.0826384!3m2!1i1024!2i768!4f13.1!3m3!1m2!1s0x0%3A0x4ce79d19f64fe4ba!2z5aSn5a6J44OI44Op44Km44OI44Os44Kk44Kv!5e0!3m2!1sja!2sjp!4v1513661493823\" width=\"600\" height=\"450\" frameborder=\"0\" style=\"border:0\" allowfullscreen></iframe>']\n",
    "\n",
    "[トラウト　釣りの最新釣果はカンパリでチェック！](https://fishing.ne.jp/freshpost)\n",
    "'''.format(content=content, title=df['post_title'][0], handle=df['kpf_handle'][0], area=df['kpf_area'][0], fishingdate=df['kpf_fishingdate'][0], weather=df['kpf_weather'][0], temperature=df['kpf_temperature'][0], tide=df['kpf_tide'][0], timezone=df['kpf_timezone'][0], style=df['kpf_style'][0], location=df['kpf_location'][0], fishing=df['kpf_fishing'][0], usetackle=df['kpf_usetackle'][0] )\n",
    "print(sql_str)"
   ]
  },
  {
   "cell_type": "code",
   "execution_count": null,
   "metadata": {},
   "outputs": [],
   "source": []
  },
  {
   "cell_type": "code",
   "execution_count": null,
   "metadata": {},
   "outputs": [],
   "source": []
  }
 ],
 "metadata": {
  "kernelspec": {
   "display_name": "Python 3",
   "language": "python",
   "name": "python3"
  },
  "language_info": {
   "codemirror_mode": {
    "name": "ipython",
    "version": 3
   },
   "file_extension": ".py",
   "mimetype": "text/x-python",
   "name": "python",
   "nbconvert_exporter": "python",
   "pygments_lexer": "ipython3",
   "version": "3.6.3"
  }
 },
 "nbformat": 4,
 "nbformat_minor": 2
}
