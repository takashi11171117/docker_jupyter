{
 "cells": [
  {
   "cell_type": "code",
   "execution_count": 1,
   "metadata": {},
   "outputs": [
    {
     "name": "stdout",
     "output_type": "stream",
     "text": [
      "[[ 1.4  0.2]\n",
      " [ 1.4  0.2]\n",
      " [ 1.3  0.2]\n",
      " [ 1.5  0.2]\n",
      " [ 1.4  0.2]\n",
      " [ 1.7  0.4]\n",
      " [ 1.4  0.3]\n",
      " [ 1.5  0.2]\n",
      " [ 1.4  0.2]\n",
      " [ 1.5  0.1]\n",
      " [ 1.5  0.2]\n",
      " [ 1.6  0.2]\n",
      " [ 1.4  0.1]\n",
      " [ 1.1  0.1]\n",
      " [ 1.2  0.2]\n",
      " [ 1.5  0.4]\n",
      " [ 1.3  0.4]\n",
      " [ 1.4  0.3]\n",
      " [ 1.7  0.3]\n",
      " [ 1.5  0.3]\n",
      " [ 1.7  0.2]\n",
      " [ 1.5  0.4]\n",
      " [ 1.   0.2]\n",
      " [ 1.7  0.5]\n",
      " [ 1.9  0.2]\n",
      " [ 1.6  0.2]\n",
      " [ 1.6  0.4]\n",
      " [ 1.5  0.2]\n",
      " [ 1.4  0.2]\n",
      " [ 1.6  0.2]\n",
      " [ 1.6  0.2]\n",
      " [ 1.5  0.4]\n",
      " [ 1.5  0.1]\n",
      " [ 1.4  0.2]\n",
      " [ 1.5  0.1]\n",
      " [ 1.2  0.2]\n",
      " [ 1.3  0.2]\n",
      " [ 1.5  0.1]\n",
      " [ 1.3  0.2]\n",
      " [ 1.5  0.2]\n",
      " [ 1.3  0.3]\n",
      " [ 1.3  0.3]\n",
      " [ 1.3  0.2]\n",
      " [ 1.6  0.6]\n",
      " [ 1.9  0.4]\n",
      " [ 1.4  0.3]\n",
      " [ 1.6  0.2]\n",
      " [ 1.4  0.2]\n",
      " [ 1.5  0.2]\n",
      " [ 1.4  0.2]\n",
      " [ 4.7  1.4]\n",
      " [ 4.5  1.5]\n",
      " [ 4.9  1.5]\n",
      " [ 4.   1.3]\n",
      " [ 4.6  1.5]\n",
      " [ 4.5  1.3]\n",
      " [ 4.7  1.6]\n",
      " [ 3.3  1. ]\n",
      " [ 4.6  1.3]\n",
      " [ 3.9  1.4]\n",
      " [ 3.5  1. ]\n",
      " [ 4.2  1.5]\n",
      " [ 4.   1. ]\n",
      " [ 4.7  1.4]\n",
      " [ 3.6  1.3]\n",
      " [ 4.4  1.4]\n",
      " [ 4.5  1.5]\n",
      " [ 4.1  1. ]\n",
      " [ 4.5  1.5]\n",
      " [ 3.9  1.1]\n",
      " [ 4.8  1.8]\n",
      " [ 4.   1.3]\n",
      " [ 4.9  1.5]\n",
      " [ 4.7  1.2]\n",
      " [ 4.3  1.3]\n",
      " [ 4.4  1.4]\n",
      " [ 4.8  1.4]\n",
      " [ 5.   1.7]\n",
      " [ 4.5  1.5]\n",
      " [ 3.5  1. ]\n",
      " [ 3.8  1.1]\n",
      " [ 3.7  1. ]\n",
      " [ 3.9  1.2]\n",
      " [ 5.1  1.6]\n",
      " [ 4.5  1.5]\n",
      " [ 4.5  1.6]\n",
      " [ 4.7  1.5]\n",
      " [ 4.4  1.3]\n",
      " [ 4.1  1.3]\n",
      " [ 4.   1.3]\n",
      " [ 4.4  1.2]\n",
      " [ 4.6  1.4]\n",
      " [ 4.   1.2]\n",
      " [ 3.3  1. ]\n",
      " [ 4.2  1.3]\n",
      " [ 4.2  1.2]\n",
      " [ 4.2  1.3]\n",
      " [ 4.3  1.3]\n",
      " [ 3.   1.1]\n",
      " [ 4.1  1.3]\n",
      " [ 6.   2.5]\n",
      " [ 5.1  1.9]\n",
      " [ 5.9  2.1]\n",
      " [ 5.6  1.8]\n",
      " [ 5.8  2.2]\n",
      " [ 6.6  2.1]\n",
      " [ 4.5  1.7]\n",
      " [ 6.3  1.8]\n",
      " [ 5.8  1.8]\n",
      " [ 6.1  2.5]\n",
      " [ 5.1  2. ]\n",
      " [ 5.3  1.9]\n",
      " [ 5.5  2.1]\n",
      " [ 5.   2. ]\n",
      " [ 5.1  2.4]\n",
      " [ 5.3  2.3]\n",
      " [ 5.5  1.8]\n",
      " [ 6.7  2.2]\n",
      " [ 6.9  2.3]\n",
      " [ 5.   1.5]\n",
      " [ 5.7  2.3]\n",
      " [ 4.9  2. ]\n",
      " [ 6.7  2. ]\n",
      " [ 4.9  1.8]\n",
      " [ 5.7  2.1]\n",
      " [ 6.   1.8]\n",
      " [ 4.8  1.8]\n",
      " [ 4.9  1.8]\n",
      " [ 5.6  2.1]\n",
      " [ 5.8  1.6]\n",
      " [ 6.1  1.9]\n",
      " [ 6.4  2. ]\n",
      " [ 5.6  2.2]\n",
      " [ 5.1  1.5]\n",
      " [ 5.6  1.4]\n",
      " [ 6.1  2.3]\n",
      " [ 5.6  2.4]\n",
      " [ 5.5  1.8]\n",
      " [ 4.8  1.8]\n",
      " [ 5.4  2.1]\n",
      " [ 5.6  2.4]\n",
      " [ 5.1  2.3]\n",
      " [ 5.1  1.9]\n",
      " [ 5.9  2.3]\n",
      " [ 5.7  2.5]\n",
      " [ 5.2  2.3]\n",
      " [ 5.   1.9]\n",
      " [ 5.2  2. ]\n",
      " [ 5.4  2.3]\n",
      " [ 5.1  1.8]]\n",
      "[0 0 0 0 0 0 0 0 0 0 0 0 0 0 0 0 0 0 0 0 0 0 0 0 0 0 0 0 0 0 0 0 0 0 0 0 0\n",
      " 0 0 0 0 0 0 0 0 0 0 0 0 0 1 1 1 1 1 1 1 1 1 1 1 1 1 1 1 1 1 1 1 1 1 1 1 1\n",
      " 1 1 1 1 1 1 1 1 1 1 1 1 1 1 1 1 1 1 1 1 1 1 1 1 1 1 2 2 2 2 2 2 2 2 2 2 2\n",
      " 2 2 2 2 2 2 2 2 2 2 2 2 2 2 2 2 2 2 2 2 2 2 2 2 2 2 2 2 2 2 2 2 2 2 2 2 2\n",
      " 2 2]\n",
      "Class labels: [0 1 2]\n"
     ]
    }
   ],
   "source": [
    "from sklearn import datasets\n",
    "import numpy as np\n",
    "iris = datasets.load_iris()\n",
    "X = iris.data[:, [2, 3]]\n",
    "y = iris.target\n",
    "print(X)\n",
    "print(y)\n",
    "print(\"Class labels:\", np.unique(y))"
   ]
  },
  {
   "cell_type": "code",
   "execution_count": 2,
   "metadata": {},
   "outputs": [],
   "source": [
    "#バックテストようデータとフォワードテストようデータの分割\n",
    "from sklearn.model_selection import train_test_split\n",
    "X_train, X_test, y_train, y_test = train_test_split(X, y, test_size=0.3, random_state=0)"
   ]
  },
  {
   "cell_type": "code",
   "execution_count": 3,
   "metadata": {},
   "outputs": [],
   "source": [
    "#標準化\n",
    "from sklearn.preprocessing import StandardScaler\n",
    "sc = StandardScaler()\n",
    "sc.fit(X_train)\n",
    "X_train_std = sc.transform(X_train)\n",
    "X_test_std = sc.transform(X_test)"
   ]
  },
  {
   "cell_type": "code",
   "execution_count": 4,
   "metadata": {},
   "outputs": [
    {
     "name": "stdout",
     "output_type": "stream",
     "text": [
      "Misclassified samples: 4\n"
     ]
    }
   ],
   "source": [
    "from sklearn.linear_model import Perceptron\n",
    "ppn = Perceptron(n_iter=40, eta0=0.1, random_state=0, shuffle=True)\n",
    "ppn.fit(X_train_std, y_train)\n",
    "y_pred = ppn.predict(X_test_std)\n",
    "print('Misclassified samples: %d' % (y_test != y_pred).sum())"
   ]
  },
  {
   "cell_type": "code",
   "execution_count": 5,
   "metadata": {},
   "outputs": [
    {
     "name": "stdout",
     "output_type": "stream",
     "text": [
      "Accurcy: 0.91\n"
     ]
    }
   ],
   "source": [
    "from sklearn.metrics import accuracy_score\n",
    "print('Accurcy: %.2f' % accuracy_score(y_test, y_pred))"
   ]
  },
  {
   "cell_type": "code",
   "execution_count": 11,
   "metadata": {},
   "outputs": [],
   "source": [
    "from matplotlib.colors import ListedColormap\n",
    "import matplotlib.pyplot as plt\n",
    "\n",
    "def plot_decision_regions(X, y, classifier, test_idx=None, resolution=0.02):\n",
    "        markers = ('s', 'x', 'o', '^', 'v')\n",
    "        colors = ('red', 'blue', 'lightgreen', 'gray', 'cyan')\n",
    "        cmap = ListedColormap(colors[:len(np.unique(y))])\n",
    "        \n",
    "        x1_min, x1_max = X[:, 0].min() - 1, X[:, 0].max() + 1\n",
    "        x2_min, x2_max = X[:, 1].min() - 1, X[:, 1].max() + 1\n",
    "        xx1, xx2 = np.meshgrid(np.arange(x1_min, x1_max, resolution), np.arange(x2_min, x2_max, resolution))\n",
    "        Z = classifier.predict(np.array([xx1.ravel(), xx2.ravel()]).T)\n",
    "        Z = Z.reshape(xx1.shape)\n",
    "        plt.contourf(xx1, xx2, Z, alpha=0.4, cmap=cmap)\n",
    "        plt.xlim(xx1.min(), xx1.max())\n",
    "        plt.ylim(xx2.min(), xx2.max())\n",
    "        \n",
    "        for idx, cl in enumerate(np.unique(y)):\n",
    "            plt.scatter(x=X[y == cl, 0], y=X[y == cl, 1], alpha=0.8, c=cmap(idx), marker=markers[idx], label=cl)\n",
    "            \n",
    "        if test_idx:\n",
    "            X_test, y_test = X[test_idx, :], y[test_idx]\n",
    "            plt.scatter(X_test[:, 0], X_test[:, 1], c='', alpha=1.0, linewidths=1, marker='o', s=55, label='test set')"
   ]
  },
  {
   "cell_type": "code",
   "execution_count": 12,
   "metadata": {},
   "outputs": [
    {
     "data": {
      "image/png": "[encoded data removed]",
      "text/plain": [
       "<matplotlib.figure.Figure at 0x7f3465be5da0>"
      ]
     },
     "metadata": {},
     "output_type": "display_data"
    }
   ],
   "source": [
    "X_combined_std = np.vstack((X_train_std, X_test_std))\n",
    "y_combined = np.hstack((y_train, y_test))\n",
    "plot_decision_regions(X=X_combined_std, y=y_combined, classifier=ppn, test_idx=range(105, 150))\n",
    "plt.xlabel('petal length [standardized]')\n",
    "plt.ylabel('petal width [standardized]')\n",
    "plt.legend(loc='upper left')\n",
    "plt.show()"
   ]
  },
  {
   "cell_type": "code",
   "execution_count": null,
   "metadata": {},
   "outputs": [],
   "source": []
  }
 ],
 "metadata": {
  "kernelspec": {
   "display_name": "Python 3",
   "language": "python",
   "name": "python3"
  },
  "language_info": {
   "codemirror_mode": {
    "name": "ipython",
    "version": 3
   },
   "file_extension": ".py",
   "mimetype": "text/x-python",
   "name": "python",
   "nbconvert_exporter": "python",
   "pygments_lexer": "ipython3",
   "version": "3.6.3"
  }
 },
 "nbformat": 4,
 "nbformat_minor": 2
}
